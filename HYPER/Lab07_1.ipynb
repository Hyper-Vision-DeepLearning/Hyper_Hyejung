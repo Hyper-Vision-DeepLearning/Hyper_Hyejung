{
 "cells": [
  {
   "cell_type": "markdown",
   "metadata": {
    "id": "IeYtZStL1_UC"
   },
   "source": [
    "# Lab 7-1: Tips"
   ]
  },
  {
   "cell_type": "markdown",
   "metadata": {
    "id": "mDt8Ekbp1_UI"
   },
   "source": [
    "Author: Seungjae Lee (이승재)"
   ]
  },
  {
   "cell_type": "code",
   "execution_count": 1,
   "metadata": {
    "id": "4NyWlgO-1_UJ"
   },
   "outputs": [],
   "source": [
    "import torch\n",
    "import torch.nn as nn\n",
    "import torch.nn.functional as F\n",
    "import torch.optim as optim"
   ]
  },
  {
   "cell_type": "code",
   "execution_count": 2,
   "metadata": {
    "colab": {
     "base_uri": "https://localhost:8080/"
    },
    "id": "7pK3ojFD1_UM",
    "outputId": "1345dfe9-d0ca-4314-efd6-1d9cac50ab66"
   },
   "outputs": [
    {
     "data": {
      "text/plain": [
       "<torch._C.Generator at 0x14d76c560d0>"
      ]
     },
     "execution_count": 2,
     "metadata": {},
     "output_type": "execute_result"
    }
   ],
   "source": [
    "# For reproducibility\n",
    "torch.manual_seed(1)"
   ]
  },
  {
   "cell_type": "markdown",
   "metadata": {
    "id": "ndAeQykM1_UO"
   },
   "source": [
    "## Training and Test Datasets"
   ]
  },
  {
   "cell_type": "code",
   "execution_count": 3,
   "metadata": {
    "id": "5MUleULn1_UO"
   },
   "outputs": [],
   "source": [
    "x_train = torch.FloatTensor([[1, 2, 1],\n",
    "                             [1, 3, 2],\n",
    "                             [1, 3, 4],\n",
    "                             [1, 5, 5],\n",
    "                             [1, 7, 5],\n",
    "                             [1, 2, 5],\n",
    "                             [1, 6, 6],\n",
    "                             [1, 7, 7]\n",
    "                            ])\n",
    "y_train = torch.LongTensor([2, 2, 2, 1, 1, 1, 0, 0])"
   ]
  },
  {
   "cell_type": "code",
   "execution_count": 4,
   "metadata": {
    "id": "enCJPkKE1_UP"
   },
   "outputs": [],
   "source": [
    "x_test = torch.FloatTensor([[2, 1, 1], [3, 1, 2], [3, 3, 4]])\n",
    "y_test = torch.LongTensor([2, 2, 2])"
   ]
  },
  {
   "cell_type": "markdown",
   "metadata": {
    "id": "LLFJ3F3R1_UQ"
   },
   "source": [
    "## Model"
   ]
  },
  {
   "cell_type": "code",
   "execution_count": 12,
   "metadata": {
    "id": "XgQaGBOm1_UR"
   },
   "outputs": [],
   "source": [
    "class SoftmaxClassifierModel(nn.Module):\n",
    "    def __init__(self):\n",
    "        super().__init__()\n",
    "        self.linear = nn.Linear(3,8) #x_train의 shape과 y_train의 class의 갯수를 고려해보세요.\n",
    "    def forward(self, x):\n",
    "        return self.linear(x)"
   ]
  },
  {
   "cell_type": "code",
   "execution_count": 13,
   "metadata": {
    "id": "k504gsZv1_US"
   },
   "outputs": [],
   "source": [
    "model = nn.Linear(3, 8) #이 부분을 채워넣으세요.# #SoftmaxClassifierModel()로 모델을 초기화하세요."
   ]
  },
  {
   "cell_type": "code",
   "execution_count": 14,
   "metadata": {
    "id": "tDSegsws1_US"
   },
   "outputs": [],
   "source": [
    "# optimizer 설정\n",
    "optimizer = optim.SGD(model.parameters(), lr=0.1) #이 부분을 채워넣으세요.# #SGD optimizer를 사용하고 learning rate는 0.1로 적용하세요."
   ]
  },
  {
   "cell_type": "code",
   "execution_count": 15,
   "metadata": {
    "id": "FpJEADyk1_UT"
   },
   "outputs": [],
   "source": [
    "def train(model, optimizer, x_train, y_train):\n",
    "    nb_epochs = 20\n",
    "    for epoch in range(nb_epochs):\n",
    "\n",
    "        # H(x) 계산\n",
    "        prediction = model(x_train)#이 부분을 채워넣으세요.# #모델을 생성해서 예측값을 구해보세요.\n",
    "\n",
    "        # cost 계산\n",
    "        cost = F.cross_entropy(prediction, y_train)#이 부분을 채워넣으세요.# #PyTorch에서 제공하는 F.cross_entropy함수를 사용해 cost를 구현해보세요.\n",
    "\n",
    "        # cost로 H(x) 개선\n",
    "        optimizer.zero_grad()\n",
    "        cost.backward()\n",
    "        optimizer.step()\n",
    "        #이 부분을 채워넣으세요.#  # gradient를 0으로 초기화\n",
    "        #이 부분을 채워넣으세요.#  # 비용 함수를 미분하여 gradient 계산\n",
    "        #이 부분을 채워넣으세요.#  # W와 b를 업데이트\n",
    "\n",
    "        print('Epoch {:4d}/{} Cost: {:.6f}'.format(\n",
    "            epoch, nb_epochs, cost.item()\n",
    "        ))"
   ]
  },
  {
   "cell_type": "code",
   "execution_count": 16,
   "metadata": {
    "id": "MzwtgZPU1_UU"
   },
   "outputs": [],
   "source": [
    "def test(model, optimizer, x_test, y_test):\n",
    "    prediction = model(x_test)\n",
    "    predicted_classes = prediction.max(1)[1] # 각각의 데이터 마다 가장 큰 값의 인덱스를 취함 => class를 예측하는 것\n",
    "    correct_count = (predicted_classes == y_test).sum().item()\n",
    "    cost = F.cross_entropy(prediction, y_test)\n",
    "\n",
    "    print('Accuracy: {}% Cost: {:.6f}'.format(\n",
    "         correct_count / len(y_test) * 100, cost.item()\n",
    "    ))"
   ]
  },
  {
   "cell_type": "code",
   "execution_count": 17,
   "metadata": {
    "id": "AOjN96fz1_UU",
    "outputId": "3df05551-23c2-4f11-eb95-2fa51cc04417"
   },
   "outputs": [
    {
     "name": "stdout",
     "output_type": "stream",
     "text": [
      "Epoch    0/20 Cost: 4.507360\n",
      "Epoch    1/20 Cost: 2.102088\n",
      "Epoch    2/20 Cost: 1.726003\n",
      "Epoch    3/20 Cost: 1.521015\n",
      "Epoch    4/20 Cost: 1.384295\n",
      "Epoch    5/20 Cost: 1.314066\n",
      "Epoch    6/20 Cost: 1.274582\n",
      "Epoch    7/20 Cost: 1.245428\n",
      "Epoch    8/20 Cost: 1.221956\n",
      "Epoch    9/20 Cost: 1.202062\n",
      "Epoch   10/20 Cost: 1.184614\n",
      "Epoch   11/20 Cost: 1.168937\n",
      "Epoch   12/20 Cost: 1.154602\n",
      "Epoch   13/20 Cost: 1.141320\n",
      "Epoch   14/20 Cost: 1.128892\n",
      "Epoch   15/20 Cost: 1.117171\n",
      "Epoch   16/20 Cost: 1.106050\n",
      "Epoch   17/20 Cost: 1.095445\n",
      "Epoch   18/20 Cost: 1.085294\n",
      "Epoch   19/20 Cost: 1.075544\n"
     ]
    }
   ],
   "source": [
    "train(model, optimizer, x_train, y_train)"
   ]
  },
  {
   "cell_type": "code",
   "execution_count": 18,
   "metadata": {
    "id": "NfzfnSRc1_UV",
    "outputId": "aa1c602b-65e3-4a26-ac25-feb38e414d0d"
   },
   "outputs": [
    {
     "name": "stdout",
     "output_type": "stream",
     "text": [
      "Accuracy: 0.0% Cost: 1.942070\n"
     ]
    }
   ],
   "source": [
    "test(model, optimizer, x_test, y_test)"
   ]
  },
  {
   "cell_type": "markdown",
   "metadata": {
    "id": "9qLNy-E41_UV"
   },
   "source": [
    "## Learning Rate"
   ]
  },
  {
   "cell_type": "markdown",
   "metadata": {
    "id": "genGgcdk1_UW"
   },
   "source": [
    "Gradient Descent 에서의 $\\alpha$ 값"
   ]
  },
  {
   "cell_type": "markdown",
   "metadata": {
    "id": "xGzjnTkM1_UW"
   },
   "source": [
    "`optimizer = optim.SGD(model.parameters(), lr=0.1)` 에서 `lr=0.1` 이다"
   ]
  },
  {
   "cell_type": "markdown",
   "metadata": {
    "id": "QVpaEQFNBLNj"
   },
   "source": [
    "Q1. Learning Rate가 다음과 같을 때 어떤 일이 발생할까요?\n",
    "\n",
    "Learing rate가 클 경우 : 수렴하지 못하고 발산한다.\n",
    "\n",
    "Learing rate가 작을 경우 : 너무 많은 시간이 소요된다."
   ]
  },
  {
   "cell_type": "markdown",
   "metadata": {
    "id": "C5z1kNJy1_UW"
   },
   "source": [
    "Large learning rate"
   ]
  },
  {
   "cell_type": "code",
   "execution_count": 19,
   "metadata": {
    "id": "CHsBXQFT1_UW"
   },
   "outputs": [],
   "source": [
    "model = SoftmaxClassifierModel()"
   ]
  },
  {
   "cell_type": "code",
   "execution_count": 20,
   "metadata": {
    "id": "hhqLUXTL1_UX"
   },
   "outputs": [],
   "source": [
    "optimizer = optim.SGD(model.parameters(), lr=1e5)"
   ]
  },
  {
   "cell_type": "code",
   "execution_count": 21,
   "metadata": {
    "id": "EbzgO5nq1_UX",
    "outputId": "5a600459-81c1-49b3-dfc5-dbb7a6c0b964"
   },
   "outputs": [
    {
     "name": "stdout",
     "output_type": "stream",
     "text": [
      "Epoch    0/20 Cost: 4.144944\n",
      "Epoch    1/20 Cost: 979929.125000\n",
      "Epoch    2/20 Cost: 2517573.500000\n",
      "Epoch    3/20 Cost: 543991.562500\n",
      "Epoch    4/20 Cost: 1703511.125000\n",
      "Epoch    5/20 Cost: 907605.625000\n",
      "Epoch    6/20 Cost: 1233054.000000\n",
      "Epoch    7/20 Cost: 1825386.125000\n",
      "Epoch    8/20 Cost: 797116.562500\n",
      "Epoch    9/20 Cost: 1031843.125000\n",
      "Epoch   10/20 Cost: 1149793.000000\n",
      "Epoch   11/20 Cost: 1464304.000000\n",
      "Epoch   12/20 Cost: 1300386.250000\n",
      "Epoch   13/20 Cost: 1028366.500000\n",
      "Epoch   14/20 Cost: 690426.625000\n",
      "Epoch   15/20 Cost: 257647.375000\n",
      "Epoch   16/20 Cost: 390906.625000\n",
      "Epoch   17/20 Cost: 1168725.000000\n",
      "Epoch   18/20 Cost: 1038855.562500\n",
      "Epoch   19/20 Cost: 848823.750000\n"
     ]
    }
   ],
   "source": [
    "train(model, optimizer, x_train, y_train)"
   ]
  },
  {
   "cell_type": "markdown",
   "metadata": {
    "id": "Wc12FsyN1_UX"
   },
   "source": [
    "Small learning rate"
   ]
  },
  {
   "cell_type": "code",
   "execution_count": 22,
   "metadata": {
    "id": "URf6c-0i1_UY"
   },
   "outputs": [],
   "source": [
    "model = SoftmaxClassifierModel()"
   ]
  },
  {
   "cell_type": "code",
   "execution_count": 23,
   "metadata": {
    "id": "y6nPVEGV1_UY"
   },
   "outputs": [],
   "source": [
    "optimizer = optim.SGD(model.parameters(), lr=1e-10)"
   ]
  },
  {
   "cell_type": "code",
   "execution_count": 24,
   "metadata": {
    "id": "ARubAn4x1_UY",
    "outputId": "980be48a-ad72-43cb-b027-4ce370d9fdba"
   },
   "outputs": [
    {
     "name": "stdout",
     "output_type": "stream",
     "text": [
      "Epoch    0/20 Cost: 4.676905\n",
      "Epoch    1/20 Cost: 4.676905\n",
      "Epoch    2/20 Cost: 4.676905\n",
      "Epoch    3/20 Cost: 4.676905\n",
      "Epoch    4/20 Cost: 4.676905\n",
      "Epoch    5/20 Cost: 4.676905\n",
      "Epoch    6/20 Cost: 4.676905\n",
      "Epoch    7/20 Cost: 4.676905\n",
      "Epoch    8/20 Cost: 4.676905\n",
      "Epoch    9/20 Cost: 4.676905\n",
      "Epoch   10/20 Cost: 4.676905\n",
      "Epoch   11/20 Cost: 4.676905\n",
      "Epoch   12/20 Cost: 4.676905\n",
      "Epoch   13/20 Cost: 4.676905\n",
      "Epoch   14/20 Cost: 4.676905\n",
      "Epoch   15/20 Cost: 4.676905\n",
      "Epoch   16/20 Cost: 4.676905\n",
      "Epoch   17/20 Cost: 4.676905\n",
      "Epoch   18/20 Cost: 4.676905\n",
      "Epoch   19/20 Cost: 4.676905\n"
     ]
    }
   ],
   "source": [
    "train(model, optimizer, x_train, y_train)"
   ]
  },
  {
   "cell_type": "markdown",
   "metadata": {
    "id": "AAfx42ne1_UZ"
   },
   "source": [
    "적절한 숫자로 시작해 발산하면 작게, cost가 줄어들지 않으면 크게 조정하자."
   ]
  },
  {
   "cell_type": "code",
   "execution_count": 25,
   "metadata": {
    "id": "dAb7ZOKw1_UZ"
   },
   "outputs": [],
   "source": [
    "model = SoftmaxClassifierModel()"
   ]
  },
  {
   "cell_type": "code",
   "execution_count": 26,
   "metadata": {
    "id": "V069kTVp1_UZ"
   },
   "outputs": [],
   "source": [
    "optimizer = optim.SGD(model.parameters(), lr=1e-1)"
   ]
  },
  {
   "cell_type": "code",
   "execution_count": 27,
   "metadata": {
    "id": "Aq9HM-Z_1_UZ",
    "outputId": "a6df5cf4-9acd-4d4e-a0a0-6488a2b18a26"
   },
   "outputs": [
    {
     "name": "stdout",
     "output_type": "stream",
     "text": [
      "Epoch    0/20 Cost: 3.184978\n",
      "Epoch    1/20 Cost: 2.325766\n",
      "Epoch    2/20 Cost: 2.010127\n",
      "Epoch    3/20 Cost: 1.769834\n",
      "Epoch    4/20 Cost: 1.554061\n",
      "Epoch    5/20 Cost: 1.373425\n",
      "Epoch    6/20 Cost: 1.249943\n",
      "Epoch    7/20 Cost: 1.187915\n",
      "Epoch    8/20 Cost: 1.156540\n",
      "Epoch    9/20 Cost: 1.133576\n",
      "Epoch   10/20 Cost: 1.114690\n",
      "Epoch   11/20 Cost: 1.098412\n",
      "Epoch   12/20 Cost: 1.083953\n",
      "Epoch   13/20 Cost: 1.070840\n",
      "Epoch   14/20 Cost: 1.058770\n",
      "Epoch   15/20 Cost: 1.047539\n",
      "Epoch   16/20 Cost: 1.037003\n",
      "Epoch   17/20 Cost: 1.027055\n",
      "Epoch   18/20 Cost: 1.017616\n",
      "Epoch   19/20 Cost: 1.008625\n"
     ]
    }
   ],
   "source": [
    "train(model, optimizer, x_train, y_train)"
   ]
  },
  {
   "cell_type": "markdown",
   "metadata": {
    "id": "FPSYQ-lH1_Ua"
   },
   "source": [
    "## Data Preprocessing (데이터 전처리)"
   ]
  },
  {
   "cell_type": "markdown",
   "metadata": {
    "id": "551p9eWA1_Ua"
   },
   "source": [
    "데이터를 zero-center하고 normalize하자."
   ]
  },
  {
   "cell_type": "code",
   "execution_count": 28,
   "metadata": {
    "id": "eVBCPsDD1_Ua"
   },
   "outputs": [],
   "source": [
    "x_train = torch.FloatTensor([[73, 80, 75],\n",
    "                             [93, 88, 93],\n",
    "                             [89, 91, 90],\n",
    "                             [96, 98, 100],\n",
    "                             [73, 66, 70]])\n",
    "y_train = torch.FloatTensor([[152], [185], [180], [196], [142]])"
   ]
  },
  {
   "cell_type": "markdown",
   "metadata": {
    "id": "17vDm7i01_Ub"
   },
   "source": [
    "$$ x'_j = \\frac{x_j - \\mu_j}{\\sigma_j} $$"
   ]
  },
  {
   "cell_type": "markdown",
   "metadata": {
    "id": "Y7shP1Jt1_Uc"
   },
   "source": [
    "여기서 $\\sigma$ 는 standard deviation, $\\mu$ 는 평균값 이다."
   ]
  },
  {
   "cell_type": "code",
   "execution_count": 29,
   "metadata": {
    "id": "r0pu6TcI1_Uc"
   },
   "outputs": [],
   "source": [
    "mu = x_train.mean(dim=0)"
   ]
  },
  {
   "cell_type": "code",
   "execution_count": 30,
   "metadata": {
    "id": "opFSudRu1_Ue"
   },
   "outputs": [],
   "source": [
    "sigma = x_train.std(dim=0)"
   ]
  },
  {
   "cell_type": "code",
   "execution_count": 31,
   "metadata": {
    "id": "2OEH3LeZ1_Ue"
   },
   "outputs": [],
   "source": [
    "norm_x_train = (x_train - mu) / sigma"
   ]
  },
  {
   "cell_type": "code",
   "execution_count": 32,
   "metadata": {
    "colab": {
     "base_uri": "https://localhost:8080/"
    },
    "id": "AOuJijWj1_Ue",
    "outputId": "eec2d117-d97b-485e-d3b2-e19d5a45dd05"
   },
   "outputs": [
    {
     "name": "stdout",
     "output_type": "stream",
     "text": [
      "tensor([[-1.0674, -0.3758, -0.8398],\n",
      "        [ 0.7418,  0.2778,  0.5863],\n",
      "        [ 0.3799,  0.5229,  0.3486],\n",
      "        [ 1.0132,  1.0948,  1.1409],\n",
      "        [-1.0674, -1.5197, -1.2360]])\n"
     ]
    }
   ],
   "source": [
    "print(norm_x_train)"
   ]
  },
  {
   "cell_type": "markdown",
   "metadata": {
    "id": "Ig-JfKxp1_Uf"
   },
   "source": [
    "Normalize와 zero center한 X로 학습해서 성능을 보자"
   ]
  },
  {
   "cell_type": "code",
   "execution_count": 33,
   "metadata": {
    "id": "UJwCzulq1_Uf"
   },
   "outputs": [],
   "source": [
    "class MultivariateLinearRegressionModel(nn.Module):\n",
    "    def __init__(self):\n",
    "        super().__init__()\n",
    "        self.linear = nn.Linear(3, 1)\n",
    "\n",
    "    def forward(self, x):\n",
    "        return self.linear(x)"
   ]
  },
  {
   "cell_type": "code",
   "execution_count": 34,
   "metadata": {
    "id": "eRBrSASh1_Uf"
   },
   "outputs": [],
   "source": [
    "model = MultivariateLinearRegressionModel()"
   ]
  },
  {
   "cell_type": "code",
   "execution_count": 35,
   "metadata": {
    "id": "hs0e8drb1_Uf"
   },
   "outputs": [],
   "source": [
    "optimizer = optim.SGD(model.parameters(), lr=1e-1)"
   ]
  },
  {
   "cell_type": "code",
   "execution_count": 36,
   "metadata": {
    "id": "pWZUOQgB1_Ug"
   },
   "outputs": [],
   "source": [
    "def train(model, optimizer, x_train, y_train):\n",
    "    nb_epochs = 20\n",
    "    for epoch in range(nb_epochs):\n",
    "\n",
    "        # H(x) 계산\n",
    "        prediction = model(x_train)\n",
    "\n",
    "        # cost 계산\n",
    "        cost = F.mse_loss(prediction, y_train)\n",
    "\n",
    "        # cost로 H(x) 개선\n",
    "        optimizer.zero_grad()\n",
    "        cost.backward()\n",
    "        optimizer.step()\n",
    "\n",
    "        print('Epoch {:4d}/{} Cost: {:.6f}'.format(\n",
    "            epoch, nb_epochs, cost.item()\n",
    "        ))"
   ]
  },
  {
   "cell_type": "code",
   "execution_count": 38,
   "metadata": {
    "id": "7eAnbGrj1_Ug",
    "outputId": "255440df-c35b-4035-8a88-5e8b71a85df0"
   },
   "outputs": [
    {
     "name": "stdout",
     "output_type": "stream",
     "text": [
      "Epoch    0/20 Cost: 29576.937500\n",
      "Epoch    1/20 Cost: 18786.199219\n",
      "Epoch    2/20 Cost: 11981.739258\n",
      "Epoch    3/20 Cost: 7656.457031\n",
      "Epoch    4/20 Cost: 4896.876465\n",
      "Epoch    5/20 Cost: 3133.242676\n",
      "Epoch    6/20 Cost: 2005.236938\n",
      "Epoch    7/20 Cost: 1283.517822\n",
      "Epoch    8/20 Cost: 821.671265\n",
      "Epoch    9/20 Cost: 526.099548\n",
      "Epoch   10/20 Cost: 336.931305\n",
      "Epoch   11/20 Cost: 215.857880\n",
      "Epoch   12/20 Cost: 138.364471\n",
      "Epoch   13/20 Cost: 88.762268\n",
      "Epoch   14/20 Cost: 57.010242\n",
      "Epoch   15/20 Cost: 36.682766\n",
      "Epoch   16/20 Cost: 23.667421\n",
      "Epoch   17/20 Cost: 15.331810\n",
      "Epoch   18/20 Cost: 9.991451\n",
      "Epoch   19/20 Cost: 6.568344\n"
     ]
    }
   ],
   "source": [
    "train(model, optimizer,norm_x_train , y_train)"
   ]
  },
  {
   "cell_type": "markdown",
   "metadata": {
    "id": "lMVmpArvAXnz"
   },
   "source": [
    "Q2. 이렇게 Data Preprocessing을 하는 이유가 무엇일까요?\n",
    "\n",
    "=> 학습을 잘 시키기 위해. x1 feature와 x2 feature가 학습되는 속도가 다르면 수렴이 늦어진다"
   ]
  },
  {
   "cell_type": "markdown",
   "metadata": {
    "id": "UyQBI9z61_Ug"
   },
   "source": [
    "## Overfitting"
   ]
  },
  {
   "cell_type": "markdown",
   "metadata": {
    "id": "CaKMCCEZCBSD"
   },
   "source": [
    "Q3. Overfitting의 개념은?\n",
    "\n",
    "=> 데이터가 train data에 과도하게 fitting 됨"
   ]
  },
  {
   "cell_type": "markdown",
   "metadata": {
    "id": "bcJLcLhSCBVh"
   },
   "source": [
    "Q4. 그렇다면 Overfitting을 방지하는 방법에는 무엇이 있을까요?\n",
    "\n",
    "=> 많은 수의 train data를 학습시킨다."
   ]
  },
  {
   "cell_type": "markdown",
   "metadata": {
    "id": "RwbeaBBG1_Uh"
   },
   "source": [
    "Regularization: Let's not have too big numbers in the weights"
   ]
  },
  {
   "cell_type": "code",
   "execution_count": 39,
   "metadata": {
    "id": "XCdG_T_l1_Uh"
   },
   "outputs": [],
   "source": [
    "def train_with_regularization(model, optimizer, x_train, y_train):\n",
    "    nb_epochs = 20\n",
    "    for epoch in range(nb_epochs):\n",
    "\n",
    "        # H(x) 계산\n",
    "        prediction = model(x_train)\n",
    "\n",
    "        # cost 계산\n",
    "        cost = F.mse_loss(prediction, y_train)\n",
    "        \n",
    "        # l2 norm 계산\n",
    "        l2_reg = 0\n",
    "        for param in model.parameters():\n",
    "            l2_reg += torch.norm(param)\n",
    "            \n",
    "        cost += l2_reg\n",
    "\n",
    "        # cost로 H(x) 개선\n",
    "        optimizer.zero_grad()\n",
    "        cost.backward()\n",
    "        optimizer.step()\n",
    "\n",
    "        print('Epoch {:4d}/{} Cost: {:.6f}'.format(\n",
    "            epoch+1, nb_epochs, cost.item()\n",
    "        ))"
   ]
  },
  {
   "cell_type": "code",
   "execution_count": 40,
   "metadata": {
    "id": "uTw_T6D11_Uh"
   },
   "outputs": [],
   "source": [
    "model = MultivariateLinearRegressionModel()"
   ]
  },
  {
   "cell_type": "code",
   "execution_count": 41,
   "metadata": {
    "id": "YzVc7CUb1_Uh"
   },
   "outputs": [],
   "source": [
    "optimizer = optim.SGD(model.parameters(), lr=1e-1)"
   ]
  },
  {
   "cell_type": "code",
   "execution_count": 42,
   "metadata": {
    "id": "ZafKSN8N1_Ui",
    "outputId": "d53951cb-5c8d-4c0f-a8a2-e80db172d312"
   },
   "outputs": [
    {
     "name": "stdout",
     "output_type": "stream",
     "text": [
      "Epoch    1/20 Cost: 29696.826172\n",
      "Epoch    2/20 Cost: 18887.000000\n",
      "Epoch    3/20 Cost: 12116.301758\n",
      "Epoch    4/20 Cost: 7809.968750\n",
      "Epoch    5/20 Cost: 5061.744629\n",
      "Epoch    6/20 Cost: 3305.152100\n",
      "Epoch    7/20 Cost: 2181.588623\n",
      "Epoch    8/20 Cost: 1462.693481\n",
      "Epoch    9/20 Cost: 1002.649414\n",
      "Epoch   10/20 Cost: 708.230347\n",
      "Epoch   11/20 Cost: 519.800293\n",
      "Epoch   12/20 Cost: 399.200134\n",
      "Epoch   13/20 Cost: 322.010742\n",
      "Epoch   14/20 Cost: 272.603760\n",
      "Epoch   15/20 Cost: 240.977875\n",
      "Epoch   16/20 Cost: 220.732300\n",
      "Epoch   17/20 Cost: 207.770340\n",
      "Epoch   18/20 Cost: 199.470062\n",
      "Epoch   19/20 Cost: 194.153564\n",
      "Epoch   20/20 Cost: 190.746826\n"
     ]
    }
   ],
   "source": [
    "train_with_regularization(model, optimizer, norm_x_train, y_train)"
   ]
  },
  {
   "cell_type": "code",
   "execution_count": null,
   "metadata": {},
   "outputs": [],
   "source": []
  }
 ],
 "metadata": {
  "colab": {
   "collapsed_sections": [],
   "name": "Lab07_1.ipynb",
   "provenance": []
  },
  "kernelspec": {
   "display_name": "Python 3 (ipykernel)",
   "language": "python",
   "name": "python3"
  },
  "language_info": {
   "codemirror_mode": {
    "name": "ipython",
    "version": 3
   },
   "file_extension": ".py",
   "mimetype": "text/x-python",
   "name": "python",
   "nbconvert_exporter": "python",
   "pygments_lexer": "ipython3",
   "version": "3.9.7"
  }
 },
 "nbformat": 4,
 "nbformat_minor": 1
}
